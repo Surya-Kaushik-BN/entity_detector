{
 "cells": [
  {
   "cell_type": "code",
   "execution_count": 7,
   "metadata": {},
   "outputs": [],
   "source": [
    "import os\n",
    "import sys\n",
    "import json\n",
    "import pandas as pd\n",
    "import matplotlib.pyplot as plt\n",
    "\n",
    "base_path = os.path.dirname(os.getcwd())\n",
    "sys.path.insert(0, base_path)"
   ]
  },
  {
   "cell_type": "code",
   "execution_count": null,
   "metadata": {},
   "outputs": [],
   "source": [
    "def calculate_silence_percentage(call_data: list) -> tuple:\n",
    "\n",
    "    total_call_duration = call_data[-1]['etime'] - call_data[0]['stime']\n",
    "    \n",
    "    # Merge overlapping speaking intervals\n",
    "    merged_intervals = []\n",
    "    \n",
    "    for entry in call_data:\n",
    "        if not merged_intervals or entry['stime'] > merged_intervals[-1][1]:\n",
    "            merged_intervals.append([entry['stime'], entry['etime']])\n",
    "        else:\n",
    "            merged_intervals[-1][1] = max(merged_intervals[-1][1], entry['etime'])\n",
    "    \n",
    "    # Calculate total speaking time\n",
    "    total_speaking_time = sum(end - start for start, end in merged_intervals)\n",
    "    \n",
    "    # Compute silence duration and percentage\n",
    "    silence_duration = total_call_duration - total_speaking_time\n",
    "    silence_percentage = (silence_duration / total_call_duration) * 100\n",
    "    \n",
    "    return round(silence_percentage, 2), silence_duration"
   ]
  },
  {
   "cell_type": "code",
   "execution_count": null,
   "metadata": {},
   "outputs": [],
   "source": [
    "def visualize(silence_percentage: list, silence_duration: list, number_of_calls: int) -> None:\n",
    "        average_silence_percentage = sum(silence_percentage) / number_of_calls\n",
    "        average_silence_duration = sum(silence_duration) / number_of_calls\n",
    "\n",
    "        data = {\n",
    "        \"Metric\": [\"Avg Silence Percentage\", \"Avg Silence Duration\"],\n",
    "        \"Value\": [average_silence_percentage, average_silence_duration]\n",
    "        }\n",
    "        \n",
    "        df = pd.DataFrame(data)\n",
    "        \n",
    "        plt.figure(figsize=(6, 5))\n",
    "        bars = plt.bar(df[\"Metric\"], df[\"Value\"], color=['blue', 'green'], width=0.6)\n",
    "        plt.xlabel(\"Silence Metrics\")\n",
    "        plt.ylabel(\"Value\")\n",
    "        plt.title(\"Comparison of Silence Percentage and Duration\")\n",
    "        plt.ylim(0, max(average_silence_percentage, average_silence_duration) * 1.2)\n",
    "\n",
    "        for i, bar in enumerate(bars):\n",
    "            label = f'{bar.get_height():.2f} %' if i == 0 else f'{bar.get_height():.2f} seconds'\n",
    "            plt.text(bar.get_x() + bar.get_width()/2, bar.get_height(), label, \n",
    "                    ha='center', va='bottom', fontsize=12, fontweight='bold')\n",
    "        \n",
    "        plt.show()\n",
    "        \n",
    "\n",
    "\n",
    "def silence_metrics(file_paths: list) -> None:\n",
    "    overtalk_percentage = []\n",
    "    overtalk_duration = []\n",
    "    number_of_calls = 0\n",
    "    for file_path in file_paths:\n",
    "        with open(file_path, \"r\") as file:\n",
    "            call_data = json.load(file)\n",
    "            if len(call_data) > 0:\n",
    "                percentage, duration = calculate_silence_percentage(call_data)\n",
    "                overtalk_percentage.append(percentage)\n",
    "                overtalk_duration.append(duration)\n",
    "                number_of_calls += 1\n",
    "\n",
    "    visualize(overtalk_percentage, overtalk_duration, number_of_calls) "
   ]
  },
  {
   "cell_type": "code",
   "execution_count": 10,
   "metadata": {},
   "outputs": [],
   "source": [
    "dir_path = os.path.join(base_path, \"All_Conversations\")\n",
    "file_paths = [os.path.join(dir_path, file) for file in os.listdir(dir_path) if file.endswith(\".json\")]"
   ]
  },
  {
   "cell_type": "code",
   "execution_count": 11,
   "metadata": {},
   "outputs": [
    {
     "data": {
      "image/png": "[encoded data removed]",
      "text/plain": [
       "<Figure size 600x500 with 1 Axes>"
      ]
     },
     "metadata": {},
     "output_type": "display_data"
    }
   ],
   "source": [
    "silence_metrics(file_paths)"
   ]
  },
  {
   "cell_type": "code",
   "execution_count": null,
   "metadata": {},
   "outputs": [],
   "source": []
  },
  {
   "cell_type": "code",
   "execution_count": null,
   "metadata": {},
   "outputs": [],
   "source": []
  }
 ],
 "metadata": {
  "kernelspec": {
   "display_name": "detector_env",
   "language": "python",
   "name": "python3"
  },
  "language_info": {
   "codemirror_mode": {
    "name": "ipython",
    "version": 3
   },
   "file_extension": ".py",
   "mimetype": "text/x-python",
   "name": "python",
   "nbconvert_exporter": "python",
   "pygments_lexer": "ipython3",
   "version": "3.13.2"
  }
 },
 "nbformat": 4,
 "nbformat_minor": 2
}
