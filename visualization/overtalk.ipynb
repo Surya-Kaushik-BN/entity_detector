{
 "cells": [
  {
   "cell_type": "code",
   "execution_count": 2,
   "metadata": {},
   "outputs": [],
   "source": [
    "import os\n",
    "import sys\n",
    "import json\n",
    "import pandas as pd\n",
    "import matplotlib.pyplot as plt\n",
    "\n",
    "base_path = os.path.dirname(os.getcwd())\n",
    "sys.path.insert(0, base_path)"
   ]
  },
  {
   "cell_type": "code",
   "execution_count": 3,
   "metadata": {},
   "outputs": [],
   "source": [
    "def calculate_overtalk_percentage(call_data: list) -> tuple:\n",
    "        total_call_duration = call_data[-1]['etime'] - call_data[0]['stime']\n",
    "        overtalk_duration = 0\n",
    "        \n",
    "        for i in range(len(call_data) - 1):\n",
    "            current_speaker = call_data[i]\n",
    "            next_speaker = call_data[i + 1]\n",
    "            \n",
    "            # Check if there is overlap\n",
    "            overlap = current_speaker['etime'] - next_speaker['stime']\n",
    "            if overlap > 0:\n",
    "                overtalk_duration += overlap\n",
    "        \n",
    "        overtalk_percentage = (overtalk_duration / total_call_duration) * 100\n",
    "        return round(overtalk_percentage, 2), overtalk_duration"
   ]
  },
  {
   "cell_type": "code",
   "execution_count": null,
   "metadata": {},
   "outputs": [],
   "source": [
    "def visualize(overtalk_percentage: list, overtalk_duration: list, number_of_calls: int) -> None:\n",
    "        average_overtalk_percentage = sum(overtalk_percentage) / number_of_calls\n",
    "        average_overtalk_duration = sum(overtalk_duration) / number_of_calls\n",
    "\n",
    "        data = {\n",
    "        \"Metric\": [\"Avg Overtalk Percentage\", \"Avg Overtalk Duration\"],\n",
    "        \"Value\": [average_overtalk_percentage, average_overtalk_duration]\n",
    "        }\n",
    "        \n",
    "        df = pd.DataFrame(data)\n",
    "        \n",
    "        plt.figure(figsize=(6, 5))\n",
    "        bars = plt.bar(df[\"Metric\"], df[\"Value\"], color=['blue', 'green'], width=0.6)\n",
    "        plt.xlabel(\"Overtalk Metrics\")\n",
    "        plt.ylabel(\"Value\")\n",
    "        plt.title(\"Comparison of Overtalk Percentage and Duration\")\n",
    "        plt.ylim(0, max(average_overtalk_percentage, average_overtalk_duration) * 1.2)\n",
    "\n",
    "        for i, bar in enumerate(bars):\n",
    "            label = f'{bar.get_height():.2f} %' if i == 0 else f'{bar.get_height():.2f} seconds'\n",
    "            plt.text(bar.get_x() + bar.get_width()/2, bar.get_height(), label, \n",
    "                    ha='center', va='bottom', fontsize=12, fontweight='bold')\n",
    "        \n",
    "        plt.show()\n",
    "        \n",
    "\n",
    "\n",
    "def overtalk_metrics(file_paths: list) -> None:\n",
    "    overtalk_percentage = []\n",
    "    overtalk_duration = []\n",
    "    number_of_calls = 0\n",
    "    for file_path in file_paths:\n",
    "        with open(file_path, \"r\") as file:\n",
    "            call_data = json.load(file)\n",
    "            if len(call_data) > 0:\n",
    "                percentage, duration = calculate_overtalk_percentage(call_data)\n",
    "                overtalk_percentage.append(percentage)\n",
    "                overtalk_duration.append(duration)\n",
    "                number_of_calls += 1\n",
    "\n",
    "    visualize(overtalk_percentage, overtalk_duration, number_of_calls) "
   ]
  },
  {
   "cell_type": "code",
   "execution_count": 23,
   "metadata": {},
   "outputs": [],
   "source": [
    "dir_path = os.path.join(base_path, \"All_Conversations\")\n",
    "file_paths = [os.path.join(dir_path, file) for file in os.listdir(dir_path) if file.endswith(\".json\")]"
   ]
  },
  {
   "cell_type": "code",
   "execution_count": 24,
   "metadata": {},
   "outputs": [
    {
     "data": {
      "image/png": "[encoded data removed]",
      "text/plain": [
       "<Figure size 600x500 with 1 Axes>"
      ]
     },
     "metadata": {},
     "output_type": "display_data"
    }
   ],
   "source": [
    "overtalk_metrics(file_paths)"
   ]
  },
  {
   "cell_type": "code",
   "execution_count": null,
   "metadata": {},
   "outputs": [],
   "source": []
  },
  {
   "cell_type": "code",
   "execution_count": null,
   "metadata": {},
   "outputs": [],
   "source": []
  }
 ],
 "metadata": {
  "kernelspec": {
   "display_name": "detector_env",
   "language": "python",
   "name": "python3"
  },
  "language_info": {
   "codemirror_mode": {
    "name": "ipython",
    "version": 3
   },
   "file_extension": ".py",
   "mimetype": "text/x-python",
   "name": "python",
   "nbconvert_exporter": "python",
   "pygments_lexer": "ipython3",
   "version": "3.13.2"
  }
 },
 "nbformat": 4,
 "nbformat_minor": 2
}
